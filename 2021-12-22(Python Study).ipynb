{
 "cells": [
  {
   "cell_type": "markdown",
   "id": "df956285",
   "metadata": {},
   "source": [
    "삼항연산자\n",
    "- a if 조건식 else b"
   ]
  },
  {
   "cell_type": "code",
   "execution_count": 2,
   "id": "75632efb",
   "metadata": {},
   "outputs": [
    {
     "data": {
      "text/plain": [
       "'불합격'"
      ]
     },
     "execution_count": 2,
     "metadata": {},
     "output_type": "execute_result"
    }
   ],
   "source": [
    "score=60\n",
    "'합격' if score>=80 else '불합격'\n"
   ]
  },
  {
   "cell_type": "code",
   "execution_count": 5,
   "id": "0fba2759",
   "metadata": {},
   "outputs": [
    {
     "name": "stdout",
     "output_type": "stream",
     "text": [
      "정수입력 >> 3\n",
      "정수입력 >> 10\n",
      "b :  10\n"
     ]
    }
   ],
   "source": [
    "a=int(input(\"정수입력 >> \"))\n",
    "b=int(input(\"정수입력 >> \"))\n",
    "print('a : ',a) if a>b else print('b : ',b)"
   ]
  },
  {
   "cell_type": "code",
   "execution_count": 12,
   "id": "e148a5b2",
   "metadata": {},
   "outputs": [
    {
     "name": "stdout",
     "output_type": "stream",
     "text": [
      "정수입력 >> 10\n",
      "정수입력 >> 85\n",
      "두수의 차 :  75\n"
     ]
    }
   ],
   "source": [
    "num1=int(input(\"정수입력 >> \"))\n",
    "num2=int(input(\"정수입력 >> \"))\n",
    "print(\"두수의 차 : \",num1-num2) if num1>num2 else print(\"두수의 차 : \",num2-num1)"
   ]
  },
  {
   "cell_type": "code",
   "execution_count": 14,
   "id": "4e016aa7",
   "metadata": {},
   "outputs": [
    {
     "name": "stdout",
     "output_type": "stream",
     "text": [
      "정수입력 : 33\n",
      "33 는(은) 홀수입니다\n"
     ]
    }
   ],
   "source": [
    "n=int(input(\"정수입력 : \"))\n",
    "print(n,\"는(은) 짝수입니다.\") if n%2==0 else print(n,\"는(은) 홀수입니다.\")"
   ]
  },
  {
   "cell_type": "markdown",
   "id": "0e043ac3",
   "metadata": {},
   "source": [
    "조건문\n",
    "- if, elif, else"
   ]
  },
  {
   "cell_type": "code",
   "execution_count": 20,
   "id": "11c5612c",
   "metadata": {},
   "outputs": [
    {
     "name": "stdout",
     "output_type": "stream",
     "text": [
      "if문 밖에있는 문장 실행\n"
     ]
    }
   ],
   "source": [
    "if False:\n",
    "    print(\"실행문장 실행\")\n",
    "print(\"if문 밖에있는 문장 실행\")"
   ]
  },
  {
   "cell_type": "code",
   "execution_count": 33,
   "id": "5e83559b",
   "metadata": {},
   "outputs": [
    {
     "name": "stdout",
     "output_type": "stream",
     "text": [
      "실행문장1\n"
     ]
    }
   ],
   "source": [
    "if True:\n",
    "    print('실행문장1')\n",
    "else:\n",
    "    print('실행문장2')"
   ]
  },
  {
   "cell_type": "code",
   "execution_count": 43,
   "id": "01f0b17e",
   "metadata": {},
   "outputs": [
    {
     "name": "stdout",
     "output_type": "stream",
     "text": [
      "돈 입력 >> 9875\n",
      "버스를 탄다\n"
     ]
    }
   ],
   "source": [
    "money=int(input(\"돈 입력 >> \"))\n",
    "if money>=10000:\n",
    "    print('택시를 탄다.')\n",
    "elif money>=9000:\n",
    "    print('버스를 탄다')\n",
    "else:\n",
    "    print('아무것도 못탄다')"
   ]
  },
  {
   "cell_type": "code",
   "execution_count": 47,
   "id": "fbb1d173",
   "metadata": {},
   "outputs": [
    {
     "name": "stdout",
     "output_type": "stream",
     "text": [
      "정수입력 >> 15\n",
      "15 는(은) 3과 5의 배수입니다.\n"
     ]
    }
   ],
   "source": [
    "num=int(input(\"정수입력 >> \"))\n",
    "if num%3==0 and num%5==0:\n",
    "    print(num,'는(은) 3과 5의 배수입니다.')\n",
    "else:\n",
    "    print(num,\"는(은) 3과 5의 배수가 아닙니다.\")"
   ]
  },
  {
   "cell_type": "code",
   "execution_count": 50,
   "id": "268c66a8",
   "metadata": {},
   "outputs": [
    {
     "name": "stdout",
     "output_type": "stream",
     "text": [
      "정수입력 : 5\n",
      "정수입력 : 5\n",
      "두 수가 똑같습니다.\n"
     ]
    }
   ],
   "source": [
    "num1=int(input(\"정수입력 : \"))\n",
    "num2=int(input(\"정수입력 : \"))\n",
    "if num1>num2:\n",
    "    print(\"첫 번째 정수가 더 큽니다.\")\n",
    "elif num1==num2:\n",
    "    print(\"두 수가 똑같습니다.\")\n",
    "else:\n",
    "    print(\"두 번째 정수가 더 큽니다.\")"
   ]
  },
  {
   "cell_type": "code",
   "execution_count": 57,
   "id": "00b06193",
   "metadata": {},
   "outputs": [
    {
     "name": "stdout",
     "output_type": "stream",
     "text": [
      "점수입력 : 100\n",
      "100점은 A학점 입니다.\n"
     ]
    }
   ],
   "source": [
    "score=int(input(\"점수입력 : \"))\n",
    "if score>=90 and score<=100:\n",
    "    grade='A'\n",
    "elif score>=80 and score<90:\n",
    "    grade='B'\n",
    "elif score>=70 and score<80:\n",
    "    grade='C'\n",
    "elif score>=60 and score<70:\n",
    "    grade='D'\n",
    "else:\n",
    "    grade='F'\n",
    "print('{}점은 {}학점 입니다.'.format(score, grade))"
   ]
  },
  {
   "cell_type": "code",
   "execution_count": 72,
   "id": "d1f8b8c4",
   "metadata": {
    "scrolled": true
   },
   "outputs": [
    {
     "name": "stdout",
     "output_type": "stream",
     "text": [
      "\n",
      "================================================\n",
      "================---- 자판기 ----================\n",
      "================================================\n",
      "== 1.콜라 == 2.사이다 ==  3.물  =======insert===\n",
      "==--------==----------==--------=======------===\n",
      "==   600  ==    800   ==  1000  ======= O00원===\n",
      "=======================================------===\n",
      "================================================\n",
      "==++++++++++++++++++++++++++++++++++++++++++++==\n",
      "==++++++++++++++++++++++++++++++++++++++++++++==\n",
      "==++++++++++++++++++++++++++++++++++++++++++++==\n",
      "==+++++++++++++++              +++++++++++++++==\n",
      "==+++++++++++++++     SMHRD    +++++++++++++++==\n",
      "==+++++++++++++++              +++++++++++++++==\n",
      "==++++++++++++++++++++++++++++++++++++++++++++==\n",
      "==++++++++++++++++++++++++++++++++++++++++++++==\n",
      "================================================\n",
      "================================================\n",
      "  ===                                      ===\n",
      "  ===                                      ===\n",
      "\n",
      "insert coin : 8700\n",
      "메뉴 선택 : 2\n",
      "잔돈 >> 7900원\n",
      "잔돈 >> 1000원 7개 500원 1개 100원 4개\n"
     ]
    }
   ],
   "source": [
    "print('''\n",
    "================================================\n",
    "================---- 자판기 ----================\n",
    "================================================\n",
    "== 1.콜라 == 2.사이다 ==  3.물  =======insert===\n",
    "==--------==----------==--------=======------===\n",
    "==   600  ==    800   ==  1000  ======= O00원===\n",
    "=======================================------===\n",
    "================================================\n",
    "==++++++++++++++++++++++++++++++++++++++++++++==\n",
    "==++++++++++++++++++++++++++++++++++++++++++++==\n",
    "==++++++++++++++++++++++++++++++++++++++++++++==\n",
    "==+++++++++++++++              +++++++++++++++==\n",
    "==+++++++++++++++     SMHRD    +++++++++++++++==\n",
    "==+++++++++++++++              +++++++++++++++==\n",
    "==++++++++++++++++++++++++++++++++++++++++++++==\n",
    "==++++++++++++++++++++++++++++++++++++++++++++==\n",
    "================================================\n",
    "================================================\n",
    "  ===                                      ===\n",
    "  ===                                      ===\n",
    "''')\n",
    "money=int(input(\"insert coin : \"))\n",
    "menu=int(input(\"메뉴 선택 : \"))\n",
    "if menu==1:\n",
    "    result=money-600\n",
    "    a1000=int(result//1000)\n",
    "    a500=int((result%1000)//500)\n",
    "    a100=int(((result%1000)%500)//100)\n",
    "elif menu==2:\n",
    "    result=money-800\n",
    "    a1000=int(result//1000)\n",
    "    a500=int((result%1000)//500)\n",
    "    a100=int(((result%1000)%500)//100)\n",
    "elif menu==3:\n",
    "    result=money-1000\n",
    "    a1000=int(result//1000)\n",
    "    a500=int((result%1000)//500)\n",
    "    a100=int(((result%1000)%500)//100)\n",
    "else: print(\"오류\")\n",
    "print('잔돈 >> {}원'.format(result))\n",
    "print('잔돈 >> 1000원 {}개 500원 {}개 100원 {}개'.format(a1000, a500, a100))\n"
   ]
  },
  {
   "cell_type": "markdown",
   "id": "b36a5a5c",
   "metadata": {},
   "source": [
    "리스트\n",
    "- 파이썬의 자료구조 형태중 하나\n",
    "- 순서가있는 수정이 가능한 객체의 집합\n",
    "- 추가, 수정, 삭제 가능"
   ]
  },
  {
   "cell_type": "code",
   "execution_count": 79,
   "id": "0ad46fe7",
   "metadata": {},
   "outputs": [
    {
     "name": "stdout",
     "output_type": "stream",
     "text": [
      "[1, 2, 3] ['my', 'name'] [1, 2, 'my', 'name'] [1, 2, ['my', 'name']]\n"
     ]
    },
    {
     "data": {
      "text/plain": [
       "list"
      ]
     },
     "execution_count": 79,
     "metadata": {},
     "output_type": "execute_result"
    }
   ],
   "source": [
    "a=[1,2,3]\n",
    "b=['my','name']\n",
    "c=[1,2,'my','name']\n",
    "d=[1,2,['my','name']]\n",
    "print(a, b, c, d)\n",
    "type(a)"
   ]
  },
  {
   "cell_type": "code",
   "execution_count": 89,
   "id": "2b0338b5",
   "metadata": {},
   "outputs": [
    {
     "name": "stdout",
     "output_type": "stream",
     "text": [
      "2\n",
      "7\n",
      "12\n"
     ]
    }
   ],
   "source": [
    "list1=[2,5,7,9,10]\n",
    "print(list1[0])\n",
    "print(list1[2])\n",
    "print(list1[0]+list1[-1])"
   ]
  },
  {
   "cell_type": "code",
   "execution_count": 95,
   "id": "4c4dc9ad",
   "metadata": {},
   "outputs": [
    {
     "name": "stdout",
     "output_type": "stream",
     "text": [
      "['a', 'b', 'c']\n"
     ]
    }
   ],
   "source": [
    "list2=[1, 2, 3, ['a', 'b', 'c']]\n",
    "temp=list2[3]\n",
    "print(temp)"
   ]
  },
  {
   "cell_type": "code",
   "execution_count": 98,
   "id": "f81d4e60",
   "metadata": {},
   "outputs": [
    {
     "name": "stdout",
     "output_type": "stream",
     "text": [
      "b\n",
      "b\n"
     ]
    }
   ],
   "source": [
    "print(temp[1])\n",
    "print(list2[3][1])"
   ]
  },
  {
   "cell_type": "code",
   "execution_count": 103,
   "id": "a1e9e869",
   "metadata": {},
   "outputs": [
    {
     "name": "stdout",
     "output_type": "stream",
     "text": [
      "[1, 2]\n",
      "[0, 1]\n",
      "[3, 4]\n"
     ]
    }
   ],
   "source": [
    "list3=[0, 1, 2, 3, 4]\n",
    "print(list3[1:3])\n",
    "print(list3[:2])\n",
    "print(list3[-2:])"
   ]
  },
  {
   "cell_type": "code",
   "execution_count": 105,
   "id": "f54b0ddb",
   "metadata": {},
   "outputs": [
    {
     "name": "stdout",
     "output_type": "stream",
     "text": [
      "[1, 2, 3, 3, 4, 5, 6]\n"
     ]
    }
   ],
   "source": [
    "list4=[1, 2, 3]\n",
    "list5=[3, 4, 5, 6]\n",
    "result=list4+list5\n",
    "print(result)"
   ]
  },
  {
   "cell_type": "markdown",
   "id": "3e089cbe",
   "metadata": {},
   "source": [
    "리스트.append(값)\n",
    "값 추가"
   ]
  },
  {
   "cell_type": "code",
   "execution_count": 110,
   "id": "d86ad1de",
   "metadata": {},
   "outputs": [
    {
     "name": "stdout",
     "output_type": "stream",
     "text": [
      "[0, 1, 2, 3, 4, 6]\n"
     ]
    }
   ],
   "source": [
    "#append함수를 활용한 값 추가(맨 뒤에 값이 추가된다)\n",
    "list6=[0, 1, 2, 3, 4]\n",
    "list6.append(6)\n",
    "print(list6)"
   ]
  },
  {
   "cell_type": "code",
   "execution_count": 124,
   "id": "3fe182f4",
   "metadata": {},
   "outputs": [
    {
     "name": "stdout",
     "output_type": "stream",
     "text": [
      "['사과', '수박', '오렌지']\n"
     ]
    }
   ],
   "source": [
    "list7=['사과', '포도', ['수박', '멜론'], '복숭아', '딸기', '오렌지']\n",
    "list_apple=list7[0]\n",
    "list_watermelon=list7[2][0]\n",
    "list_orange=list7[5]\n",
    "choice_list=[]\n",
    "choice_list.append(list_apple)\n",
    "choice_list.append(list_watermelon)\n",
    "choice_list.append(list_orange)\n",
    "print(choice_list)"
   ]
  },
  {
   "cell_type": "code",
   "execution_count": 129,
   "id": "1d50a015",
   "metadata": {},
   "outputs": [],
   "source": [
    "#insert(인덱스위치, 값) 함수 사용\n",
    "#인덱스 위치에 값 추가"
   ]
  },
  {
   "cell_type": "code",
   "execution_count": 130,
   "id": "9f3e0e3d",
   "metadata": {},
   "outputs": [
    {
     "name": "stdout",
     "output_type": "stream",
     "text": [
      "[0, 5, 1, 2, 3, 4]\n"
     ]
    }
   ],
   "source": [
    "list5=[0, 1, 2, 3, 4]\n",
    "list5.insert(1,5)\n",
    "print(list5)"
   ]
  },
  {
   "cell_type": "code",
   "execution_count": 132,
   "id": "69bd3b83",
   "metadata": {},
   "outputs": [
    {
     "name": "stdout",
     "output_type": "stream",
     "text": [
      "[0, 5, 1, 2, 3, 6, 6, 4]\n"
     ]
    }
   ],
   "source": [
    "list5.insert(5,6)\n",
    "print(list5)"
   ]
  },
  {
   "cell_type": "code",
   "execution_count": 153,
   "id": "cd592e82",
   "metadata": {},
   "outputs": [
    {
     "name": "stdout",
     "output_type": "stream",
     "text": [
      "인덱스위치입력 >> 0\n",
      "노래제목입력 >> Butter\n",
      "가수입력 >>BTS\n",
      "인덱스위치입력 >> 1\n",
      "노래제목입력 >> 헤픈우연\n",
      "가수입력 >>헤이즈\n",
      "인덱스위치입력 >> 2\n",
      "노래제목입력 >> 슬픈인연\n",
      "가수입력 >>먼데이키즈\n",
      "인덱스위치입력 >> 3\n",
      "노래제목입력 >> 라일락\n",
      "가수입력 >>아이유\n",
      "music_list :  [['Butter', 'BTS'], ['헤픈우연', '헤이즈'], ['슬픈인연', '먼데이키즈'], ['라일락', '아이유']]\n"
     ]
    }
   ],
   "source": [
    "music_list = []\n",
    "index=0\n",
    "while index < 3:\n",
    "    index = int(input('인덱스위치입력 >> '))\n",
    "    song = input('노래제목입력 >> ')\n",
    "    singer = input('가수입력 >>')\n",
    "    music_list.insert(index,[song, singer])\n",
    "\n",
    "\n",
    "print('music_list : ', music_list)"
   ]
  },
  {
   "cell_type": "code",
   "execution_count": 133,
   "id": "17e3832d",
   "metadata": {},
   "outputs": [
    {
     "data": {
      "text/plain": [
       "[0, 1, 2, 3, 4, 5]"
      ]
     },
     "execution_count": 133,
     "metadata": {},
     "output_type": "execute_result"
    }
   ],
   "source": [
    "list6=[0,1,2,3,4,5]\n",
    "list6"
   ]
  },
  {
   "cell_type": "code",
   "execution_count": 140,
   "id": "61b80e45",
   "metadata": {},
   "outputs": [
    {
     "name": "stdout",
     "output_type": "stream",
     "text": [
      "수정 전: 7\n",
      "수정 후: 7\n"
     ]
    },
    {
     "data": {
      "text/plain": [
       "[0, 7, 2, 3, 4, 5]"
      ]
     },
     "execution_count": 140,
     "metadata": {},
     "output_type": "execute_result"
    }
   ],
   "source": [
    "print('수정 전:',list6[1])\n",
    "list6[1]=7\n",
    "print('수정 후:',list6[1])\n",
    "list6"
   ]
  },
  {
   "cell_type": "code",
   "execution_count": 143,
   "id": "4dc840d5",
   "metadata": {},
   "outputs": [
    {
     "data": {
      "text/plain": [
       "[('h', 'i', 'j'), ['a', 'b', 'c'], 3, 4, ('d', 'e', 'f', 'g')]"
      ]
     },
     "execution_count": 143,
     "metadata": {},
     "output_type": "execute_result"
    }
   ],
   "source": [
    "array=[1,2,3,4,5]\n",
    "array[4]=7\n",
    "array[1]=['a','b','c']\n",
    "array[4]='d','e','f','g'\n",
    "array[0]='h','i','j'\n",
    "array"
   ]
  },
  {
   "cell_type": "code",
   "execution_count": 148,
   "id": "000aea7a",
   "metadata": {},
   "outputs": [
    {
     "data": {
      "text/plain": [
       "[0, 1, 3, 4, 5]"
      ]
     },
     "execution_count": 148,
     "metadata": {},
     "output_type": "execute_result"
    }
   ],
   "source": [
    "list7=[0,1,2,3,4,5]\n",
    "#del 키워드\n",
    "del list7[2]\n",
    "list7"
   ]
  },
  {
   "cell_type": "code",
   "execution_count": 152,
   "id": "39a6ff88",
   "metadata": {},
   "outputs": [
    {
     "data": {
      "text/plain": [
       "[0]"
      ]
     },
     "execution_count": 152,
     "metadata": {},
     "output_type": "execute_result"
    }
   ],
   "source": [
    "del list7[1:4]\n",
    "list7"
   ]
  },
  {
   "cell_type": "code",
   "execution_count": 156,
   "id": "29acd07f",
   "metadata": {},
   "outputs": [
    {
     "data": {
      "text/plain": [
       "['a', 'c', 'd']"
      ]
     },
     "execution_count": 156,
     "metadata": {},
     "output_type": "execute_result"
    }
   ],
   "source": [
    "#remove() 함수 이용해서 값 삭제\n",
    "list7=['a','b','c','d','e']\n",
    "list7.remove('b')\n",
    "list7\n",
    "list7.remove('e')\n",
    "list7\n"
   ]
  },
  {
   "cell_type": "code",
   "execution_count": 157,
   "id": "c64478df",
   "metadata": {},
   "outputs": [
    {
     "data": {
      "text/plain": [
       "[9, 77, 13, 51, 100, 3]"
      ]
     },
     "execution_count": 157,
     "metadata": {},
     "output_type": "execute_result"
    }
   ],
   "source": [
    "#sort() - 리스트에 있는 값을 오름차순으로 정렬\n",
    "list8=[9,77,13,51,100,3]\n",
    "list8"
   ]
  },
  {
   "cell_type": "code",
   "execution_count": 159,
   "id": "242246d6",
   "metadata": {},
   "outputs": [
    {
     "data": {
      "text/plain": [
       "[3, 9, 13, 51, 77, 100]"
      ]
     },
     "execution_count": 159,
     "metadata": {},
     "output_type": "execute_result"
    }
   ],
   "source": [
    "list8.sort()\n",
    "list8"
   ]
  },
  {
   "cell_type": "code",
   "execution_count": 160,
   "id": "4d2eb63f",
   "metadata": {},
   "outputs": [
    {
     "data": {
      "text/plain": [
       "[9, 77, 13, 51, 100, 3]"
      ]
     },
     "execution_count": 160,
     "metadata": {},
     "output_type": "execute_result"
    }
   ],
   "source": [
    "#reverse()- 리스트에 있는 값을 역순으로 뒤집음,  \n",
    "# 원래 true 값이 역순이기 때문에 false값으로 넣으면 정방향으로 사용 가능\n",
    "list9=[9, 77, 13, 51, 100, 3]\n",
    "list9"
   ]
  },
  {
   "cell_type": "code",
   "execution_count": 164,
   "id": "459981c2",
   "metadata": {},
   "outputs": [
    {
     "data": {
      "text/plain": [
       "[100, 77, 51, 13, 9, 3]"
      ]
     },
     "execution_count": 164,
     "metadata": {},
     "output_type": "execute_result"
    }
   ],
   "source": [
    "list9.sort()\n",
    "list9\n",
    "list9.reverse()\n",
    "list9"
   ]
  },
  {
   "cell_type": "code",
   "execution_count": 168,
   "id": "e0f7dcba",
   "metadata": {},
   "outputs": [
    {
     "data": {
      "text/plain": [
       "2"
      ]
     },
     "execution_count": 168,
     "metadata": {},
     "output_type": "execute_result"
    }
   ],
   "source": [
    "#index() - 찾고자하는 값의 위치를 반환\n",
    "list11=['a','b','c','d','e','f','c','c']\n",
    "list11.index('c')"
   ]
  },
  {
   "cell_type": "code",
   "execution_count": 169,
   "id": "2ecb1dd7",
   "metadata": {},
   "outputs": [
    {
     "data": {
      "text/plain": [
       "3"
      ]
     },
     "execution_count": 169,
     "metadata": {},
     "output_type": "execute_result"
    }
   ],
   "source": [
    "#count() - 찾고자하는 값이 몇번 들어있는지 반환\n",
    "list11.count('c')"
   ]
  },
  {
   "cell_type": "code",
   "execution_count": 171,
   "id": "7020865a",
   "metadata": {},
   "outputs": [
    {
     "data": {
      "text/plain": [
       "['a', 'b', 'c', 'd', 'e', 'f']"
      ]
     },
     "execution_count": 171,
     "metadata": {},
     "output_type": "execute_result"
    }
   ],
   "source": [
    "#pop() - 마지막 값을 반환 후 삭제\n",
    "list11.pop()\n",
    "list11"
   ]
  },
  {
   "cell_type": "code",
   "execution_count": 173,
   "id": "b6cae972",
   "metadata": {},
   "outputs": [
    {
     "data": {
      "text/plain": [
       "6"
      ]
     },
     "execution_count": 173,
     "metadata": {},
     "output_type": "execute_result"
    }
   ],
   "source": [
    "#len(리스트) - 리스트 값 개수 반환 \n",
    "list12=[0, 1, 2]\n",
    "len(list12)\n",
    "len(list11)"
   ]
  }
 ],
 "metadata": {
  "kernelspec": {
   "display_name": "Python 3 (ipykernel)",
   "language": "python",
   "name": "python3"
  },
  "language_info": {
   "codemirror_mode": {
    "name": "ipython",
    "version": 3
   },
   "file_extension": ".py",
   "mimetype": "text/x-python",
   "name": "python",
   "nbconvert_exporter": "python",
   "pygments_lexer": "ipython3",
   "version": "3.9.7"
  }
 },
 "nbformat": 4,
 "nbformat_minor": 5
}
